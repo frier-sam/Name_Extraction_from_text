{
 "cells": [
  {
   "cell_type": "code",
   "execution_count": 1,
   "metadata": {},
   "outputs": [],
   "source": [
    "import test"
   ]
  },
  {
   "cell_type": "code",
   "execution_count": 2,
   "metadata": {},
   "outputs": [],
   "source": [
    "extracter = test.namextract()"
   ]
  },
  {
   "cell_type": "code",
   "execution_count": 3,
   "metadata": {},
   "outputs": [],
   "source": [
    "text = '''RAIPUR: Along with senior Congress leaders, including Rahul Gandhi, Sonia Gandhi and Manmohan Singh, cricketer-turned-politicians Navjot Singh Sidhu and Mohammad Azharuddin will be the party's star campaigners for the first phase of Chhattisgarh polls to be held next month. \n",
    "\n",
    "The opposition party Wednesday released the list of 40 star campaigners for the first phase of the state elections. Chhattisgarh will witness polls in two phases- on November 12 and 20. \n",
    "'''"
   ]
  },
  {
   "cell_type": "code",
   "execution_count": 5,
   "metadata": {},
   "outputs": [],
   "source": [
    "posna = extracter.pos_tag_names(text)"
   ]
  },
  {
   "cell_type": "code",
   "execution_count": 6,
   "metadata": {},
   "outputs": [
    {
     "data": {
      "text/plain": [
       "{'Chhattisgarh',\n",
       " 'Congress',\n",
       " 'Gandhi Manmohan',\n",
       " 'Mohammad Azharuddin',\n",
       " 'November',\n",
       " 'RAIPUR: Along',\n",
       " 'Rahul Gandhi, Sonia',\n",
       " 'Singh Sidhu',\n",
       " 'Singh, Navjot',\n",
       " 'Wednesday'}"
      ]
     },
     "execution_count": 6,
     "metadata": {},
     "output_type": "execute_result"
    }
   ],
   "source": [
    "extracter.fullnames(posna)"
   ]
  },
  {
   "cell_type": "code",
   "execution_count": 4,
   "metadata": {},
   "outputs": [],
   "source": [
    "na = extracter.names(text)"
   ]
  },
  {
   "cell_type": "code",
   "execution_count": 5,
   "metadata": {},
   "outputs": [
    {
     "data": {
      "text/plain": [
       "{\"'s\",\n",
       " 'Azharuddin',\n",
       " 'Chhattisgarh',\n",
       " 'Manmohan Singh',\n",
       " 'Navjot Singh Sidhu',\n",
       " 'RAIPUR',\n",
       " 'Rahul',\n",
       " 'Sonia'}"
      ]
     },
     "execution_count": 5,
     "metadata": {},
     "output_type": "execute_result"
    }
   ],
   "source": [
    "extracter.fullnames(na)"
   ]
  },
  {
   "cell_type": "code",
   "execution_count": 30,
   "metadata": {},
   "outputs": [],
   "source": [
    "from nltk.tokenize import word_tokenize\n",
    "from nltk.corpus import stopwords\n",
    "import string\n",
    "import re\n",
    "from nltk.tag import pos_tag\n",
    "cnames = []\n",
    "replacingwords = ['.', '-']\n",
    "Punclist = ['’','“','”','would','could','since']\n",
    "def pos_names(text):\n",
    "    compiles = re.compile('|'.join(map(re.escape, replacingwords)))\n",
    "    uptex = compiles.sub(\" \", text)\n",
    "    twords = word_tokenize(uptex)\n",
    "    stop_words = stopwords.words('english') +  list(string.punctuation) + Punclist\n",
    "    names = {}\n",
    "    for n,word in enumerate(twords):\n",
    "        \n",
    "        if word.lower() not in stop_words:\n",
    "            print(word)\n",
    "            if pos_tag([word])[0][1] == 'NNP' or word in cnames: #or check if name in common list of words\n",
    "                names[n]=word\n",
    "    return names"
   ]
  },
  {
   "cell_type": "code",
   "execution_count": 45,
   "metadata": {
    "collapsed": true
   },
   "outputs": [
    {
     "data": {
      "text/plain": [
       "[('RAIPUR:', 'NNP'),\n",
       " ('Along', 'NNP'),\n",
       " ('with', 'IN'),\n",
       " ('senior', 'JJ'),\n",
       " ('Congress', 'NNP'),\n",
       " ('leaders,', 'NN'),\n",
       " ('including', 'VBG'),\n",
       " ('Rahul', 'NNP'),\n",
       " ('Gandhi,', 'NNP'),\n",
       " ('Sonia', 'NNP'),\n",
       " ('Gandhi', 'NNP'),\n",
       " ('and', 'CC'),\n",
       " ('Manmohan', 'NNP'),\n",
       " ('Singh,', 'NNP'),\n",
       " ('cricketer-turned-politicians', 'NNS'),\n",
       " ('Navjot', 'NNP'),\n",
       " ('Singh', 'NNP'),\n",
       " ('Sidhu', 'NNP'),\n",
       " ('and', 'CC'),\n",
       " ('Mohammad', 'NNP'),\n",
       " ('Azharuddin', 'NNP'),\n",
       " ('will', 'MD'),\n",
       " ('be', 'VB'),\n",
       " ('the', 'DT'),\n",
       " (\"party's\", 'JJ'),\n",
       " ('star', 'NN'),\n",
       " ('campaigners', 'NNS'),\n",
       " ('for', 'IN'),\n",
       " ('the', 'DT'),\n",
       " ('first', 'JJ'),\n",
       " ('phase', 'NN'),\n",
       " ('of', 'IN'),\n",
       " ('Chhattisgarh', 'NNP'),\n",
       " ('polls', 'NNS'),\n",
       " ('to', 'TO'),\n",
       " ('be', 'VB'),\n",
       " ('held', 'VBN'),\n",
       " ('next', 'JJ'),\n",
       " ('month.', 'NN'),\n",
       " ('The', 'DT'),\n",
       " ('opposition', 'NN'),\n",
       " ('party', 'NN'),\n",
       " ('Wednesday', 'NNP'),\n",
       " ('released', 'VBD'),\n",
       " ('the', 'DT'),\n",
       " ('list', 'NN'),\n",
       " ('of', 'IN'),\n",
       " ('40', 'CD'),\n",
       " ('star', 'NN'),\n",
       " ('campaigners', 'NNS'),\n",
       " ('for', 'IN'),\n",
       " ('the', 'DT'),\n",
       " ('first', 'JJ'),\n",
       " ('phase', 'NN'),\n",
       " ('of', 'IN'),\n",
       " ('the', 'DT'),\n",
       " ('state', 'NN'),\n",
       " ('elections.', 'NN'),\n",
       " ('Chhattisgarh', 'NNP'),\n",
       " ('will', 'MD'),\n",
       " ('witness', 'VB'),\n",
       " ('polls', 'NNS'),\n",
       " ('in', 'IN'),\n",
       " ('two', 'CD'),\n",
       " ('phases-', 'NN'),\n",
       " ('on', 'IN'),\n",
       " ('November', 'NNP'),\n",
       " ('12', 'CD'),\n",
       " ('and', 'CC'),\n",
       " ('20.', 'CD')]"
      ]
     },
     "execution_count": 45,
     "metadata": {},
     "output_type": "execute_result"
    }
   ],
   "source": [
    "pos_tag(text.split())"
   ]
  },
  {
   "cell_type": "code",
   "execution_count": null,
   "metadata": {},
   "outputs": [],
   "source": []
  },
  {
   "cell_type": "code",
   "execution_count": null,
   "metadata": {},
   "outputs": [],
   "source": []
  },
  {
   "cell_type": "code",
   "execution_count": 6,
   "metadata": {},
   "outputs": [],
   "source": [
    "pna = extracter.pos_names(text)"
   ]
  },
  {
   "cell_type": "code",
   "execution_count": 8,
   "metadata": {},
   "outputs": [
    {
     "data": {
      "text/plain": [
       "{}"
      ]
     },
     "execution_count": 8,
     "metadata": {},
     "output_type": "execute_result"
    }
   ],
   "source": [
    "pna"
   ]
  },
  {
   "cell_type": "code",
   "execution_count": 7,
   "metadata": {},
   "outputs": [
    {
     "data": {
      "text/plain": [
       "set()"
      ]
     },
     "execution_count": 7,
     "metadata": {},
     "output_type": "execute_result"
    }
   ],
   "source": [
    "extracter.fullnames(pna)"
   ]
  },
  {
   "cell_type": "code",
   "execution_count": null,
   "metadata": {},
   "outputs": [],
   "source": []
  },
  {
   "cell_type": "code",
   "execution_count": 6,
   "metadata": {},
   "outputs": [
    {
     "data": {
      "text/plain": [
       "[Synset('gandhi.n.01'), Synset('gandhi.n.02')]"
      ]
     },
     "execution_count": 6,
     "metadata": {},
     "output_type": "execute_result"
    }
   ],
   "source": [
    "from nltk.corpus import wordnet as wn\n",
    "wn.synsets('Gandhi')"
   ]
  },
  {
   "cell_type": "code",
   "execution_count": 7,
   "metadata": {},
   "outputs": [
    {
     "data": {
      "text/plain": [
       "\"political and spiritual leader during India's struggle with Great Britain for home rule; an advocate of passive resistance (1869-1948)\""
      ]
     },
     "execution_count": 7,
     "metadata": {},
     "output_type": "execute_result"
    }
   ],
   "source": [
    "wn.synset('gandhi.n.02').definition()"
   ]
  },
  {
   "cell_type": "code",
   "execution_count": 41,
   "metadata": {},
   "outputs": [
    {
     "data": {
      "text/plain": [
       "[('RAIPUR', 'NN')]"
      ]
     },
     "execution_count": 41,
     "metadata": {},
     "output_type": "execute_result"
    }
   ],
   "source": [
    "pos_tag(['RAIPUR'])"
   ]
  },
  {
   "cell_type": "code",
   "execution_count": 53,
   "metadata": {},
   "outputs": [
    {
     "data": {
      "text/plain": [
       "{'Chhattisgarh',\n",
       " 'Congress',\n",
       " 'Gandhi Manmohan',\n",
       " 'Mohammad Azharuddin',\n",
       " 'November',\n",
       " 'RAIPUR: Along',\n",
       " 'Rahul Gandhi, Sonia',\n",
       " 'Singh Sidhu',\n",
       " 'Singh, Navjot',\n",
       " 'Wednesday'}"
      ]
     },
     "execution_count": 53,
     "metadata": {},
     "output_type": "execute_result"
    }
   ],
   "source": [
    "extracter.fullnames(na)"
   ]
  },
  {
   "cell_type": "code",
   "execution_count": 52,
   "metadata": {
    "collapsed": true
   },
   "outputs": [
    {
     "data": {
      "text/plain": [
       "{0: 'RAIPUR:',\n",
       " 1: 'Along',\n",
       " 4: 'Congress',\n",
       " 7: 'Rahul',\n",
       " 8: 'Gandhi,',\n",
       " 9: 'Sonia',\n",
       " 10: 'Gandhi',\n",
       " 12: 'Manmohan',\n",
       " 13: 'Singh,',\n",
       " 15: 'Navjot',\n",
       " 16: 'Singh',\n",
       " 17: 'Sidhu',\n",
       " 19: 'Mohammad',\n",
       " 20: 'Azharuddin',\n",
       " 32: 'Chhattisgarh',\n",
       " 42: 'Wednesday',\n",
       " 58: 'Chhattisgarh',\n",
       " 66: 'November'}"
      ]
     },
     "execution_count": 52,
     "metadata": {},
     "output_type": "execute_result"
    }
   ],
   "source": [
    "from nltk.tag import pos_tag\n",
    "def pos_tag_names(text): \n",
    "    na ={}\n",
    "    tags = pos_tag(text.split())\n",
    "    for n,word in enumerate(tags):\n",
    "        if tags[n][1] == 'NNP':\n",
    "            na[n] = word[0]\n",
    "        return na"
   ]
  },
  {
   "cell_type": "code",
   "execution_count": null,
   "metadata": {},
   "outputs": [],
   "source": []
  },
  {
   "cell_type": "code",
   "execution_count": 48,
   "metadata": {
    "collapsed": true
   },
   "outputs": [
    {
     "data": {
      "text/plain": [
       "[('RAIPUR:', 'NNP'),\n",
       " ('Along', 'NNP'),\n",
       " ('with', 'IN'),\n",
       " ('senior', 'JJ'),\n",
       " ('Congress', 'NNP'),\n",
       " ('leaders,', 'NN'),\n",
       " ('including', 'VBG'),\n",
       " ('Rahul', 'NNP'),\n",
       " ('Gandhi,', 'NNP'),\n",
       " ('Sonia', 'NNP'),\n",
       " ('Gandhi', 'NNP'),\n",
       " ('and', 'CC'),\n",
       " ('Manmohan', 'NNP'),\n",
       " ('Singh,', 'NNP'),\n",
       " ('cricketer-turned-politicians', 'NNS'),\n",
       " ('Navjot', 'NNP'),\n",
       " ('Singh', 'NNP'),\n",
       " ('Sidhu', 'NNP'),\n",
       " ('and', 'CC'),\n",
       " ('Mohammad', 'NNP'),\n",
       " ('Azharuddin', 'NNP'),\n",
       " ('will', 'MD'),\n",
       " ('be', 'VB'),\n",
       " ('the', 'DT'),\n",
       " (\"party's\", 'JJ'),\n",
       " ('star', 'NN'),\n",
       " ('campaigners', 'NNS'),\n",
       " ('for', 'IN'),\n",
       " ('the', 'DT'),\n",
       " ('first', 'JJ'),\n",
       " ('phase', 'NN'),\n",
       " ('of', 'IN'),\n",
       " ('Chhattisgarh', 'NNP'),\n",
       " ('polls', 'NNS'),\n",
       " ('to', 'TO'),\n",
       " ('be', 'VB'),\n",
       " ('held', 'VBN'),\n",
       " ('next', 'JJ'),\n",
       " ('month.', 'NN'),\n",
       " ('The', 'DT'),\n",
       " ('opposition', 'NN'),\n",
       " ('party', 'NN'),\n",
       " ('Wednesday', 'NNP'),\n",
       " ('released', 'VBD'),\n",
       " ('the', 'DT'),\n",
       " ('list', 'NN'),\n",
       " ('of', 'IN'),\n",
       " ('40', 'CD'),\n",
       " ('star', 'NN'),\n",
       " ('campaigners', 'NNS'),\n",
       " ('for', 'IN'),\n",
       " ('the', 'DT'),\n",
       " ('first', 'JJ'),\n",
       " ('phase', 'NN'),\n",
       " ('of', 'IN'),\n",
       " ('the', 'DT'),\n",
       " ('state', 'NN'),\n",
       " ('elections.', 'NN'),\n",
       " ('Chhattisgarh', 'NNP'),\n",
       " ('will', 'MD'),\n",
       " ('witness', 'VB'),\n",
       " ('polls', 'NNS'),\n",
       " ('in', 'IN'),\n",
       " ('two', 'CD'),\n",
       " ('phases-', 'NN'),\n",
       " ('on', 'IN'),\n",
       " ('November', 'NNP'),\n",
       " ('12', 'CD'),\n",
       " ('and', 'CC'),\n",
       " ('20.', 'CD')]"
      ]
     },
     "execution_count": 48,
     "metadata": {},
     "output_type": "execute_result"
    }
   ],
   "source": [
    "tags"
   ]
  },
  {
   "cell_type": "code",
   "execution_count": null,
   "metadata": {},
   "outputs": [],
   "source": []
  }
 ],
 "metadata": {
  "kernelspec": {
   "display_name": "Python 3",
   "language": "python",
   "name": "python3"
  },
  "language_info": {
   "codemirror_mode": {
    "name": "ipython",
    "version": 3
   },
   "file_extension": ".py",
   "mimetype": "text/x-python",
   "name": "python",
   "nbconvert_exporter": "python",
   "pygments_lexer": "ipython3",
   "version": "3.6.6"
  }
 },
 "nbformat": 4,
 "nbformat_minor": 2
}
